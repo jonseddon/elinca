{
 "cells": [
  {
   "cell_type": "markdown",
   "metadata": {},
   "source": [
    "## Make Positions\n",
    "\n",
    "The positions in the GPX file occur approximately every eight hours. To get a smoother animation that allows the progression of the weather to be seen more frequent positions are required. Additionally, to save money we turned the Yellowbrick off when in port. The last position is often out at sea and \n",
    "\n",
    "This notebook takes the original fixes, adds some manual positions for when we were in port and then interpolates between the points to get hourly positions. Various interpolation techniques are possible; a simple linear interpolation based on the bearing and distance between fixes will be tried first."
   ]
  },
  {
   "cell_type": "code",
   "execution_count": 9,
   "metadata": {},
   "outputs": [],
   "source": [
    "from geographiclib.geodesic import Geodesic\n",
    "from geopy import distance\n",
    "import gpxpy\n",
    "import pandas as pd"
   ]
  },
  {
   "cell_type": "code",
   "execution_count": 5,
   "metadata": {},
   "outputs": [],
   "source": [
    "gpx_file = 'yblog-1589101179046.gpx'"
   ]
  },
  {
   "cell_type": "code",
   "execution_count": 6,
   "metadata": {},
   "outputs": [],
   "source": [
    "with open(gpx_file) as fh:\n",
    "    gpx = gpxpy.parse(fh)\n",
    "data = gpx.tracks[0].segments[0].points"
   ]
  },
  {
   "cell_type": "code",
   "execution_count": 7,
   "metadata": {},
   "outputs": [
    {
     "name": "stdout",
     "output_type": "stream",
     "text": [
      "[trkpt:55.94507999999999,-4.746780000000001@8.0@2013-09-04 16:19:01+00:00]\n"
     ]
    }
   ],
   "source": [
    "print(data[0])"
   ]
  },
  {
   "cell_type": "code",
   "execution_count": 28,
   "metadata": {},
   "outputs": [],
   "source": [
    "df = pd.DataFrame(columns=['lat', 'lon', 'time'])\n",
    "\n",
    "# Skip the first entry as it was just a test one week before we departed\n",
    "for point in data[1:]: \n",
    "    df = df.append({'lon': point.longitude, 'lat' : point.latitude, 'time' : point.time}, ignore_index=True)"
   ]
  },
  {
   "cell_type": "code",
   "execution_count": 30,
   "metadata": {},
   "outputs": [],
   "source": [
    "geod = Geodesic.WGS84\n",
    "\n",
    "dist_dif = []\n",
    "time_dif = []\n",
    "\n",
    "# Remember that we're skipping the first entry\n",
    "for index in range(1, len(data) - 1):\n",
    "    start = data[index]\n",
    "    stop = data[index+1]\n",
    "    distance_2d = geod.Inverse(start.latitude, start.longitude,\n",
    "                               stop.latitude, stop.longitude)['s12']\n",
    "    dist_dif.append(distance_2d)\n",
    "    time_delta = (stop.time - start.time).total_seconds()    \n",
    "    time_dif.append(time_delta)\n",
    "# Add the last row\n",
    "dist_dif.append(0)\n",
    "time_dif.append(0)\n",
    "    \n",
    "df['time_dif'] = time_dif\n",
    "df['dis_dif'] = dist_dif"
   ]
  },
  {
   "cell_type": "code",
   "execution_count": 31,
   "metadata": {},
   "outputs": [
    {
     "name": "stdout",
     "output_type": "stream",
     "text": [
      "        lat      lon                       time  time_dif        dis_dif\n",
      "0  55.94507 -4.74655  2013-09-16 21:54:06+00:00   65160.0   45971.356742\n",
      "1  55.56232 -5.02120  2013-09-17 16:00:06+00:00   28802.0  100928.014355\n",
      "2  54.66902 -5.29117  2013-09-18 00:00:08+00:00   28798.0  117976.169012\n",
      "3  53.64186 -4.84571  2013-09-18 08:00:06+00:00   28800.0   38121.353753\n",
      "4  53.32146 -4.64268  2013-09-18 16:00:06+00:00   28800.0       5.331001\n",
      "5  53.32146 -4.64260  2013-09-19 00:00:06+00:00   28800.0       6.397101\n",
      "6  53.32148 -4.64269  2013-09-19 08:00:06+00:00   28800.0       0.000000\n",
      "7  53.32148 -4.64269  2013-09-19 16:00:06+00:00   28831.0    2372.313017\n",
      "8  53.34245 -4.64908  2013-09-20 00:00:37+00:00   28788.0  111154.812503\n",
      "9  52.48326 -5.49176  2013-09-20 08:00:25+00:00   28813.0  111159.060838\n",
      "          lat      lon                       time  time_dif       dis_dif\n",
      "546  58.03371 -6.33969  2014-05-24 00:00:06+00:00   28800.0  19772.891561\n",
      "547  58.20922 -6.39012  2014-05-24 08:00:06+00:00    7146.0      0.000000\n",
      "548  58.20922 -6.39012  2014-05-24 09:59:12+00:00       0.0      0.000000\n"
     ]
    }
   ],
   "source": [
    "print(df[:10])\n",
    "print(df[-3:])\n"
   ]
  },
  {
   "cell_type": "code",
   "execution_count": 32,
   "metadata": {},
   "outputs": [
    {
     "name": "stdout",
     "output_type": "stream",
     "text": [
      "   lat  lon                time  src\n",
      "0  NaN  NaN 2013-09-04 00:00:00  NaN\n",
      "1  NaN  NaN 2013-09-04 01:00:00  NaN\n",
      "2  NaN  NaN 2013-09-04 02:00:00  NaN\n",
      "3  NaN  NaN 2013-09-04 03:00:00  NaN\n",
      "4  NaN  NaN 2013-09-04 04:00:00  NaN\n",
      "5  NaN  NaN 2013-09-04 05:00:00  NaN\n",
      "6  NaN  NaN 2013-09-04 06:00:00  NaN\n",
      "7  NaN  NaN 2013-09-04 07:00:00  NaN\n",
      "8  NaN  NaN 2013-09-04 08:00:00  NaN\n",
      "9  NaN  NaN 2013-09-04 09:00:00  NaN\n"
     ]
    }
   ],
   "source": [
    "hourly = pd.DataFrame(columns=['lat', 'lon', 'time', 'src'])\n",
    "hourly['time'] = pd.date_range('2013-09-04', '2014-05-25', freq='H')\n",
    "print(hourly[:10])"
   ]
  },
  {
   "cell_type": "code",
   "execution_count": 19,
   "metadata": {},
   "outputs": [
    {
     "name": "stdout",
     "output_type": "stream",
     "text": [
      "0\n",
      "lat                           55.9451\n",
      "lon                          -4.74678\n",
      "time        2013-09-04 16:19:01+00:00\n",
      "time_dif                            0\n",
      "dis_dif                             0\n",
      "Name: 0, dtype: object\n"
     ]
    }
   ],
   "source": [
    "num_rows = len(hourly.)\n",
    "for index, row in df.iterrows():\n",
    "    print(index)\n",
    "    print(row)\n",
    "    break"
   ]
  },
  {
   "cell_type": "code",
   "execution_count": null,
   "metadata": {},
   "outputs": [],
   "source": []
  }
 ],
 "metadata": {
  "kernelspec": {
   "display_name": "Python 3",
   "language": "python",
   "name": "python3"
  },
  "language_info": {
   "codemirror_mode": {
    "name": "ipython",
    "version": 3
   },
   "file_extension": ".py",
   "mimetype": "text/x-python",
   "name": "python",
   "nbconvert_exporter": "python",
   "pygments_lexer": "ipython3",
   "version": "3.7.6"
  }
 },
 "nbformat": 4,
 "nbformat_minor": 4
}
