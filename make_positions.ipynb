{
 "cells": [
  {
   "cell_type": "markdown",
   "metadata": {},
   "source": [
    "## Make Positions\n",
    "\n",
    "The positions in the GPX file occur approximately every eight hours. To get a smoother animation that allows the progression of the weather to be seen more frequent positions are required. Additionally, to save money we turned the Yellowbrick off when in port. The last position is often out at sea and \n",
    "\n",
    "This notebook takes the original fixes, adds some manual positions for when we were in port and then interpolates between the points to get hourly positions. Various interpolation techniques are possible; a simple linear interpolation based on the bearing and distance between fixes will be tried first."
   ]
  },
  {
   "cell_type": "code",
   "execution_count": null,
   "metadata": {},
   "outputs": [],
   "source": [
    "from geographiclib.geodesic import Geodesic\n",
    "from geopy import distance\n",
    "import gpxpy\n",
    "import pandas as pd"
   ]
  },
  {
   "cell_type": "code",
   "execution_count": 2,
   "metadata": {},
   "outputs": [],
   "source": [
    "gpx_file = 'yblog-1589101179046.gpx'"
   ]
  },
  {
   "cell_type": "code",
   "execution_count": 3,
   "metadata": {},
   "outputs": [],
   "source": [
    "with open(gpx_file) as fh:\n",
    "    gpx = gpxpy.parse(fh)\n",
    "data = gpx.tracks[0].segments[0].points"
   ]
  },
  {
   "cell_type": "code",
   "execution_count": 4,
   "metadata": {},
   "outputs": [
    {
     "name": "stdout",
     "output_type": "stream",
     "text": [
      "[trkpt:55.94507999999999,-4.746780000000001@8.0@2013-09-04 16:19:01+00:00]\n"
     ]
    }
   ],
   "source": [
    "print(data[0])"
   ]
  },
  {
   "cell_type": "code",
   "execution_count": 5,
   "metadata": {},
   "outputs": [],
   "source": [
    "df = pd.DataFrame(columns=['lat', 'lon', 'time'])\n",
    "\n",
    "# Skip the first entry as it was just a test one week before we departed\n",
    "for point in data[1:]: \n",
    "    df = df.append({'lon': point.longitude, 'lat' : point.latitude, 'time' : point.time}, ignore_index=True)"
   ]
  },
  {
   "cell_type": "code",
   "execution_count": 6,
   "metadata": {},
   "outputs": [],
   "source": [
    "geod = Geodesic.WGS84\n",
    "\n",
    "dist_dif = []\n",
    "time_dif = []\n",
    "\n",
    "# Remember that we're skipping the first entry\n",
    "for index in range(1, len(data) - 1):\n",
    "    start = data[index]\n",
    "    stop = data[index+1]\n",
    "    distance_2d = geod.Inverse(start.latitude, start.longitude,\n",
    "                               stop.latitude, stop.longitude)['s12']\n",
    "    dist_dif.append(distance_2d)\n",
    "    time_delta = (stop.time - start.time).total_seconds()    \n",
    "    time_dif.append(time_delta)\n",
    "# Add the last row\n",
    "dist_dif.append(0)\n",
    "time_dif.append(0)\n",
    "    \n",
    "df['time_dif'] = time_dif\n",
    "df['dis_dif'] = dist_dif"
   ]
  },
  {
   "cell_type": "code",
   "execution_count": 7,
   "metadata": {},
   "outputs": [
    {
     "name": "stdout",
     "output_type": "stream",
     "text": [
      "        lat      lon                       time  time_dif        dis_dif\n",
      "0  55.94507 -4.74655  2013-09-16 21:54:06+00:00   65160.0   45971.356742\n",
      "1  55.56232 -5.02120  2013-09-17 16:00:06+00:00   28802.0  100928.014355\n",
      "2  54.66902 -5.29117  2013-09-18 00:00:08+00:00   28798.0  117976.169012\n",
      "3  53.64186 -4.84571  2013-09-18 08:00:06+00:00   28800.0   38121.353753\n",
      "4  53.32146 -4.64268  2013-09-18 16:00:06+00:00   28800.0       5.331001\n",
      "5  53.32146 -4.64260  2013-09-19 00:00:06+00:00   28800.0       6.397101\n",
      "6  53.32148 -4.64269  2013-09-19 08:00:06+00:00   28800.0       0.000000\n",
      "7  53.32148 -4.64269  2013-09-19 16:00:06+00:00   28831.0    2372.313017\n",
      "8  53.34245 -4.64908  2013-09-20 00:00:37+00:00   28788.0  111154.812503\n",
      "9  52.48326 -5.49176  2013-09-20 08:00:25+00:00   28813.0  111159.060838\n",
      "          lat      lon                       time  time_dif       dis_dif\n",
      "546  58.03371 -6.33969  2014-05-24 00:00:06+00:00   28800.0  19772.891561\n",
      "547  58.20922 -6.39012  2014-05-24 08:00:06+00:00    7146.0      0.000000\n",
      "548  58.20922 -6.39012  2014-05-24 09:59:12+00:00       0.0      0.000000\n"
     ]
    }
   ],
   "source": [
    "print(df[:10])\n",
    "print(df[-3:])\n"
   ]
  },
  {
   "cell_type": "code",
   "execution_count": 14,
   "metadata": {},
   "outputs": [
    {
     "name": "stdout",
     "output_type": "stream",
     "text": [
      "   lat  lon                      time  src\n",
      "0  NaN  NaN 2013-09-16 00:00:00+00:00  NaN\n",
      "1  NaN  NaN 2013-09-16 01:00:00+00:00  NaN\n",
      "2  NaN  NaN 2013-09-16 02:00:00+00:00  NaN\n",
      "3  NaN  NaN 2013-09-16 03:00:00+00:00  NaN\n",
      "4  NaN  NaN 2013-09-16 04:00:00+00:00  NaN\n",
      "5  NaN  NaN 2013-09-16 05:00:00+00:00  NaN\n",
      "6  NaN  NaN 2013-09-16 06:00:00+00:00  NaN\n",
      "7  NaN  NaN 2013-09-16 07:00:00+00:00  NaN\n",
      "8  NaN  NaN 2013-09-16 08:00:00+00:00  NaN\n",
      "9  NaN  NaN 2013-09-16 09:00:00+00:00  NaN\n"
     ]
    }
   ],
   "source": [
    "hourly = pd.DataFrame(columns=['lat', 'lon', 'time', 'src'])\n",
    "hourly['time'] = pd.date_range('2013-09-16', '2014-05-25', freq='H', tz='UTC')\n",
    "print(hourly[:10])"
   ]
  },
  {
   "cell_type": "code",
   "execution_count": 9,
   "metadata": {},
   "outputs": [
    {
     "name": "stdout",
     "output_type": "stream",
     "text": [
      "0\n",
      "lat                           55.9451\n",
      "lon                          -4.74655\n",
      "time        2013-09-16 21:54:06+00:00\n",
      "time_dif                        65160\n",
      "dis_dif                       45971.4\n",
      "Name: 0, dtype: object\n"
     ]
    }
   ],
   "source": [
    "for index, row in df.iterrows():\n",
    "    print(index)\n",
    "    print(row)\n",
    "    break"
   ]
  },
  {
   "cell_type": "code",
   "execution_count": 10,
   "metadata": {},
   "outputs": [
    {
     "data": {
      "text/plain": [
       "lat                           55.9451\n",
       "lon                          -4.74655\n",
       "time        2013-09-16 21:54:06+00:00\n",
       "time_dif                        65160\n",
       "dis_dif                       45971.4\n",
       "Name: 0, dtype: object"
      ]
     },
     "execution_count": 10,
     "metadata": {},
     "output_type": "execute_result"
    }
   ],
   "source": [
    "df.loc[0]"
   ]
  },
  {
   "cell_type": "code",
   "execution_count": 15,
   "metadata": {},
   "outputs": [
    {
     "name": "stdout",
     "output_type": "stream",
     "text": [
      "hourly_index 0\n",
      "2013-09-16 00:00:00+00:00\n",
      "Bingo!\n",
      "hourly_index 19\n",
      "2013-09-16 19:00:00+00:00\n",
      "Bingo!\n",
      "hourly_index 38\n",
      "2013-09-17 14:00:00+00:00\n",
      "hourly_index 39\n",
      "2013-09-17 15:00:00+00:00\n",
      "hourly_index 40\n",
      "2013-09-17 16:00:00+00:00\n",
      "hourly_index 41\n",
      "2013-09-17 17:00:00+00:00\n",
      "hourly_index 42\n",
      "2013-09-17 18:00:00+00:00\n",
      "hourly_index 43\n",
      "2013-09-17 19:00:00+00:00\n",
      "hourly_index 44\n",
      "2013-09-17 20:00:00+00:00\n",
      "hourly_index 45\n",
      "2013-09-17 21:00:00+00:00\n",
      "hourly_index 46\n",
      "2013-09-17 22:00:00+00:00\n",
      "hourly_index 47\n",
      "2013-09-17 23:00:00+00:00\n",
      "hourly_index 48\n",
      "2013-09-18 00:00:00+00:00\n",
      "hourly_index 49\n",
      "2013-09-18 01:00:00+00:00\n",
      "hourly_index 50\n",
      "2013-09-18 02:00:00+00:00\n",
      "hourly_index 51\n",
      "2013-09-18 03:00:00+00:00\n",
      "hourly_index 52\n",
      "2013-09-18 04:00:00+00:00\n",
      "hourly_index 53\n",
      "2013-09-18 05:00:00+00:00\n",
      "hourly_index 54\n",
      "2013-09-18 06:00:00+00:00\n",
      "hourly_index 55\n",
      "2013-09-18 07:00:00+00:00\n",
      "hourly_index 56\n",
      "2013-09-18 08:00:00+00:00\n",
      "hourly_index 57\n",
      "2013-09-18 09:00:00+00:00\n",
      "hourly_index 58\n",
      "2013-09-18 10:00:00+00:00\n",
      "hourly_index 59\n",
      "2013-09-18 11:00:00+00:00\n",
      "hourly_index 60\n",
      "2013-09-18 12:00:00+00:00\n",
      "hourly_index 61\n",
      "2013-09-18 13:00:00+00:00\n",
      "hourly_index 62\n",
      "2013-09-18 14:00:00+00:00\n",
      "hourly_index 63\n",
      "2013-09-18 15:00:00+00:00\n",
      "hourly_index 64\n",
      "2013-09-18 16:00:00+00:00\n",
      "hourly_index 65\n",
      "2013-09-18 17:00:00+00:00\n",
      "hourly_index 66\n",
      "2013-09-18 18:00:00+00:00\n",
      "hourly_index 67\n",
      "2013-09-18 19:00:00+00:00\n",
      "hourly_index 68\n",
      "2013-09-18 20:00:00+00:00\n",
      "hourly_index 69\n",
      "2013-09-18 21:00:00+00:00\n",
      "hourly_index 70\n",
      "2013-09-18 22:00:00+00:00\n",
      "hourly_index 71\n",
      "2013-09-18 23:00:00+00:00\n",
      "hourly_index 72\n",
      "2013-09-19 00:00:00+00:00\n",
      "hourly_index 73\n",
      "2013-09-19 01:00:00+00:00\n",
      "hourly_index 74\n",
      "2013-09-19 02:00:00+00:00\n",
      "hourly_index 75\n",
      "2013-09-19 03:00:00+00:00\n",
      "hourly_index 76\n",
      "2013-09-19 04:00:00+00:00\n",
      "hourly_index 77\n",
      "2013-09-19 05:00:00+00:00\n",
      "hourly_index 78\n",
      "2013-09-19 06:00:00+00:00\n",
      "hourly_index 79\n",
      "2013-09-19 07:00:00+00:00\n",
      "hourly_index 80\n",
      "2013-09-19 08:00:00+00:00\n",
      "hourly_index 81\n",
      "2013-09-19 09:00:00+00:00\n",
      "hourly_index 82\n",
      "2013-09-19 10:00:00+00:00\n",
      "hourly_index 83\n",
      "2013-09-19 11:00:00+00:00\n",
      "hourly_index 84\n",
      "2013-09-19 12:00:00+00:00\n",
      "hourly_index 85\n",
      "2013-09-19 13:00:00+00:00\n",
      "hourly_index 86\n",
      "2013-09-19 14:00:00+00:00\n",
      "hourly_index 87\n",
      "2013-09-19 15:00:00+00:00\n",
      "hourly_index 88\n",
      "2013-09-19 16:00:00+00:00\n",
      "hourly_index 89\n",
      "2013-09-19 17:00:00+00:00\n",
      "hourly_index 90\n",
      "2013-09-19 18:00:00+00:00\n",
      "hourly_index 91\n",
      "2013-09-19 19:00:00+00:00\n",
      "hourly_index 92\n",
      "2013-09-19 20:00:00+00:00\n",
      "hourly_index 93\n",
      "2013-09-19 21:00:00+00:00\n",
      "hourly_index 94\n",
      "2013-09-19 22:00:00+00:00\n",
      "hourly_index 95\n",
      "2013-09-19 23:00:00+00:00\n",
      "hourly_index 96\n",
      "2013-09-20 00:00:00+00:00\n",
      "hourly_index 97\n",
      "2013-09-20 01:00:00+00:00\n",
      "hourly_index 98\n",
      "2013-09-20 02:00:00+00:00\n",
      "hourly_index 99\n",
      "2013-09-20 03:00:00+00:00\n",
      "hourly_index 100\n",
      "2013-09-20 04:00:00+00:00\n",
      "hourly_index 101\n",
      "2013-09-20 05:00:00+00:00\n",
      "hourly_index 101 orig_index 1\n"
     ]
    },
    {
     "name": "stderr",
     "output_type": "stream",
     "text": [
      "/home/jseddon/software/miniconda3/envs/elinca_cf/lib/python3.7/site-packages/ipykernel_launcher.py:11: SettingWithCopyWarning: \n",
      "A value is trying to be set on a copy of a slice from a DataFrame\n",
      "\n",
      "See the caveats in the documentation: https://pandas.pydata.org/pandas-docs/stable/user_guide/indexing.html#returning-a-view-versus-a-copy\n",
      "  # This is added back by InteractiveShellApp.init_path()\n",
      "/home/jseddon/software/miniconda3/envs/elinca_cf/lib/python3.7/site-packages/ipykernel_launcher.py:12: SettingWithCopyWarning: \n",
      "A value is trying to be set on a copy of a slice from a DataFrame\n",
      "\n",
      "See the caveats in the documentation: https://pandas.pydata.org/pandas-docs/stable/user_guide/indexing.html#returning-a-view-versus-a-copy\n",
      "  if sys.path[0] == '':\n",
      "/home/jseddon/software/miniconda3/envs/elinca_cf/lib/python3.7/site-packages/ipykernel_launcher.py:27: SettingWithCopyWarning: \n",
      "A value is trying to be set on a copy of a slice from a DataFrame\n",
      "\n",
      "See the caveats in the documentation: https://pandas.pydata.org/pandas-docs/stable/user_guide/indexing.html#returning-a-view-versus-a-copy\n",
      "/home/jseddon/software/miniconda3/envs/elinca_cf/lib/python3.7/site-packages/ipykernel_launcher.py:28: SettingWithCopyWarning: \n",
      "A value is trying to be set on a copy of a slice from a DataFrame\n",
      "\n",
      "See the caveats in the documentation: https://pandas.pydata.org/pandas-docs/stable/user_guide/indexing.html#returning-a-view-versus-a-copy\n",
      "/home/jseddon/software/miniconda3/envs/elinca_cf/lib/python3.7/site-packages/ipykernel_launcher.py:33: SettingWithCopyWarning: \n",
      "A value is trying to be set on a copy of a slice from a DataFrame\n",
      "\n",
      "See the caveats in the documentation: https://pandas.pydata.org/pandas-docs/stable/user_guide/indexing.html#returning-a-view-versus-a-copy\n",
      "/home/jseddon/software/miniconda3/envs/elinca_cf/lib/python3.7/site-packages/ipykernel_launcher.py:34: SettingWithCopyWarning: \n",
      "A value is trying to be set on a copy of a slice from a DataFrame\n",
      "\n",
      "See the caveats in the documentation: https://pandas.pydata.org/pandas-docs/stable/user_guide/indexing.html#returning-a-view-versus-a-copy\n"
     ]
    },
    {
     "ename": "NotImplementedError",
     "evalue": "",
     "output_type": "error",
     "traceback": [
      "\u001b[0;31m---------------------------------------------------------------------------\u001b[0m",
      "\u001b[0;31mNotImplementedError\u001b[0m                       Traceback (most recent call last)",
      "\u001b[0;32m<ipython-input-15-a196ff34ef73>\u001b[0m in \u001b[0;36m<module>\u001b[0;34m\u001b[0m\n\u001b[1;32m     37\u001b[0m             \u001b[0;31m# Where are we here?\u001b[0m\u001b[0;34m\u001b[0m\u001b[0;34m\u001b[0m\u001b[0;34m\u001b[0m\u001b[0m\n\u001b[1;32m     38\u001b[0m             \u001b[0mprint\u001b[0m\u001b[0;34m(\u001b[0m\u001b[0;34mf'hourly_index {hourly_index} orig_index {orig_index}'\u001b[0m\u001b[0;34m)\u001b[0m\u001b[0;34m\u001b[0m\u001b[0;34m\u001b[0m\u001b[0m\n\u001b[0;32m---> 39\u001b[0;31m             \u001b[0;32mraise\u001b[0m \u001b[0mNotImplementedError\u001b[0m\u001b[0;34m\u001b[0m\u001b[0;34m\u001b[0m\u001b[0m\n\u001b[0m\u001b[1;32m     40\u001b[0m             \u001b[0;31m# hourly_index += 1\u001b[0m\u001b[0;34m\u001b[0m\u001b[0;34m\u001b[0m\u001b[0;34m\u001b[0m\u001b[0m\n\u001b[1;32m     41\u001b[0m         \u001b[0;32mif\u001b[0m \u001b[0mhourly_index\u001b[0m \u001b[0;34m>\u001b[0m \u001b[0;36m100\u001b[0m\u001b[0;34m:\u001b[0m\u001b[0;34m\u001b[0m\u001b[0;34m\u001b[0m\u001b[0m\n",
      "\u001b[0;31mNotImplementedError\u001b[0m: "
     ]
    }
   ],
   "source": [
    "hourly_index = 0\n",
    "hourly_end_index = len(hourly.index)\n",
    "seconds_in_hour = 60**2\n",
    "for orig_index in range(len(df.index) - 1):\n",
    "    while hourly_index < hourly_end_index:\n",
    "        print(f'hourly_index {hourly_index}')\n",
    "        print(hourly.loc[hourly_index]['time'])\n",
    "        if (hourly.loc[hourly_index]['time'] < df.loc[orig_index]['time'] and \n",
    "                hourly.loc[hourly_index + 1]['time'] < df.loc[orig_index]['time']):\n",
    "            print('Bingo!')\n",
    "            hourly.loc[hourly_index]['lat'] = df.loc[orig_index]['lat']\n",
    "            hourly.loc[hourly_index]['lon'] = df.loc[orig_index]['lon']\n",
    "            l = geod.InverseLine(\n",
    "                df.loc[orig_index]['lat'],\n",
    "                df.loc[orig_index]['lon'],\n",
    "                df.loc[orig_index + 1]['lat'],\n",
    "                df.loc[orig_index + 1]['lon'],\n",
    "            )\n",
    "            end_time = (\n",
    "                df.loc[orig_index + 1]['time']\n",
    "                .replace(minute=0, second=0, microsecond=0)\n",
    "            )\n",
    "            time_delta = int((end_time - df.loc[orig_index]['time']).total_seconds() \n",
    "                             / seconds_in_hour)\n",
    "            for i in range(time_delta + 1):\n",
    "                g = l.Position(l.s13, Geodesic.STANDARD | Geodesic.LONG_UNROLL)\n",
    "                hourly.loc[hourly_index]['lat'] = g['lat2']\n",
    "                hourly.loc[hourly_index]['lon'] = g['lon2']\n",
    "                hourly_index += 1\n",
    "        elif orig_index == 0:\n",
    "            # We haven't received our first fix yet so keep us at what will\n",
    "            # be the first fix\n",
    "            hourly.loc[hourly_index]['lat'] = df.loc[0]['lat']\n",
    "            hourly.loc[hourly_index]['lon'] = df.loc[0]['lon']\n",
    "            hourly_index += 1\n",
    "        else:\n",
    "            # Where are we here?\n",
    "            print(f'hourly_index {hourly_index} orig_index {orig_index}')\n",
    "            raise NotImplementedError\n",
    "            # hourly_index += 1\n",
    "        if hourly_index > 100:\n",
    "            break\n",
    "\n"
   ]
  },
  {
   "cell_type": "code",
   "execution_count": 18,
   "metadata": {},
   "outputs": [
    {
     "name": "stdout",
     "output_type": "stream",
     "text": [
      "    lat  lon                      time  src\n",
      "0   NaN  NaN 2013-09-16 00:00:00+00:00  NaN\n",
      "1   NaN  NaN 2013-09-16 01:00:00+00:00  NaN\n",
      "2   NaN  NaN 2013-09-16 02:00:00+00:00  NaN\n",
      "3   NaN  NaN 2013-09-16 03:00:00+00:00  NaN\n",
      "4   NaN  NaN 2013-09-16 04:00:00+00:00  NaN\n",
      "5   NaN  NaN 2013-09-16 05:00:00+00:00  NaN\n",
      "6   NaN  NaN 2013-09-16 06:00:00+00:00  NaN\n",
      "7   NaN  NaN 2013-09-16 07:00:00+00:00  NaN\n",
      "8   NaN  NaN 2013-09-16 08:00:00+00:00  NaN\n",
      "9   NaN  NaN 2013-09-16 09:00:00+00:00  NaN\n",
      "10  NaN  NaN 2013-09-16 10:00:00+00:00  NaN\n",
      "11  NaN  NaN 2013-09-16 11:00:00+00:00  NaN\n",
      "12  NaN  NaN 2013-09-16 12:00:00+00:00  NaN\n",
      "13  NaN  NaN 2013-09-16 13:00:00+00:00  NaN\n",
      "14  NaN  NaN 2013-09-16 14:00:00+00:00  NaN\n",
      "15  NaN  NaN 2013-09-16 15:00:00+00:00  NaN\n",
      "16  NaN  NaN 2013-09-16 16:00:00+00:00  NaN\n",
      "17  NaN  NaN 2013-09-16 17:00:00+00:00  NaN\n",
      "18  NaN  NaN 2013-09-16 18:00:00+00:00  NaN\n",
      "19  NaN  NaN 2013-09-16 19:00:00+00:00  NaN\n",
      "20  NaN  NaN 2013-09-16 20:00:00+00:00  NaN\n",
      "21  NaN  NaN 2013-09-16 21:00:00+00:00  NaN\n",
      "22  NaN  NaN 2013-09-16 22:00:00+00:00  NaN\n",
      "23  NaN  NaN 2013-09-16 23:00:00+00:00  NaN\n"
     ]
    },
    {
     "name": "stderr",
     "output_type": "stream",
     "text": [
      "/home/jseddon/software/miniconda3/envs/elinca_cf/lib/python3.7/site-packages/ipykernel_launcher.py:1: SettingWithCopyWarning: \n",
      "A value is trying to be set on a copy of a slice from a DataFrame\n",
      "\n",
      "See the caveats in the documentation: https://pandas.pydata.org/pandas-docs/stable/user_guide/indexing.html#returning-a-view-versus-a-copy\n",
      "  \"\"\"Entry point for launching an IPython kernel.\n"
     ]
    }
   ],
   "source": [
    "hourly.loc[0]['lat'] = 55.\n",
    "print(hourly[:24])"
   ]
  },
  {
   "cell_type": "code",
   "execution_count": 26,
   "metadata": {},
   "outputs": [],
   "source": [
    "geod = Geodesic.WGS84\n",
    "hourly = pd.DataFrame(columns=['lat', 'lon', 'time', 'src'])\n",
    "# src is a character with meanings: f: fix\n",
    "#                                   i: interpolated between fixes\n",
    "#                                   m: manually inserted point (e.g. when \n",
    "#                                      tracker was off in port)\n",
    "seconds_in_hour = 60**2\n",
    "for orig_index in range(len(df.index) - 1):\n",
    "    l = geod.InverseLine(\n",
    "        df.loc[orig_index]['lat'],\n",
    "        df.loc[orig_index]['lon'],\n",
    "        df.loc[orig_index + 1]['lat'],\n",
    "        df.loc[orig_index + 1]['lon'],\n",
    "    )\n",
    "    start_time = (\n",
    "        df.iloc[orig_index]['time']\n",
    "        .replace(minute=0, second=0, microsecond=0)\n",
    "    )\n",
    "    end_time = (\n",
    "        df.iloc[orig_index + 1]['time']\n",
    "        .replace(minute=0, second=0, microsecond=0)\n",
    "    )\n",
    "    time_delta_hours = int((end_time - start_time).total_seconds() / \n",
    "                           seconds_in_hour)\n",
    "    for i in range(time_delta_hours + 1):\n",
    "        g = l.Position(l.s13 * i, Geodesic.STANDARD | Geodesic.LONG_UNROLL)\n",
    "        hourly = hourly.append({\n",
    "            'time': start_time + pd.Timedelta(hours=i),\n",
    "            'lat': g['lat2'],\n",
    "            'lon': g['lon2'],\n",
    "            'src': 'f' if i == 0 else 'i',\n",
    "        }, ignore_index=True)"
   ]
  },
  {
   "cell_type": "code",
   "execution_count": 27,
   "metadata": {},
   "outputs": [
    {
     "name": "stdout",
     "output_type": "stream",
     "text": [
      "          lat       lon                       time src\n",
      "0   55.945070 -4.746550  2013-09-16 21:00:00+00:00   f\n",
      "1   55.562320 -5.021200  2013-09-16 22:00:00+00:00   i\n",
      "2   55.178942 -5.290557  2013-09-16 23:00:00+00:00   i\n",
      "3   54.794957 -5.554788  2013-09-17 00:00:00+00:00   i\n",
      "4   54.410382 -5.814054  2013-09-17 01:00:00+00:00   i\n",
      "5   54.025237 -6.068509  2013-09-17 02:00:00+00:00   i\n",
      "6   53.639538 -6.318302  2013-09-17 03:00:00+00:00   i\n",
      "7   53.253303 -6.563575  2013-09-17 04:00:00+00:00   i\n",
      "8   52.866546 -6.804467  2013-09-17 05:00:00+00:00   i\n",
      "9   52.479285 -7.041109  2013-09-17 06:00:00+00:00   i\n",
      "10  52.091532 -7.273630  2013-09-17 07:00:00+00:00   i\n",
      "11  51.703304 -7.502151  2013-09-17 08:00:00+00:00   i\n",
      "12  51.314612 -7.726792  2013-09-17 09:00:00+00:00   i\n",
      "13  50.925471 -7.947665  2013-09-17 10:00:00+00:00   i\n",
      "14  50.535893 -8.164882  2013-09-17 11:00:00+00:00   i\n",
      "15  50.145890 -8.378548  2013-09-17 12:00:00+00:00   i\n",
      "16  49.755475 -8.588765  2013-09-17 13:00:00+00:00   i\n",
      "17  49.364657 -8.795633  2013-09-17 14:00:00+00:00   i\n",
      "18  48.973448 -8.999245  2013-09-17 15:00:00+00:00   i\n",
      "19  48.581859 -9.199694  2013-09-17 16:00:00+00:00   i\n",
      "20  55.562320 -5.021200  2013-09-17 16:00:00+00:00   f\n",
      "21  54.669020 -5.291170  2013-09-17 17:00:00+00:00   i\n",
      "22  53.775012 -5.549540  2013-09-17 18:00:00+00:00   i\n",
      "23  52.880336 -5.797153  2013-09-17 19:00:00+00:00   i\n"
     ]
    }
   ],
   "source": [
    "print(hourly[:24])"
   ]
  },
  {
   "cell_type": "code",
   "execution_count": null,
   "metadata": {},
   "outputs": [],
   "source": []
  }
 ],
 "metadata": {
  "kernelspec": {
   "display_name": "Python 3",
   "language": "python",
   "name": "python3"
  },
  "language_info": {
   "codemirror_mode": {
    "name": "ipython",
    "version": 3
   },
   "file_extension": ".py",
   "mimetype": "text/x-python",
   "name": "python",
   "nbconvert_exporter": "python",
   "pygments_lexer": "ipython3",
   "version": "3.7.6"
  }
 },
 "nbformat": 4,
 "nbformat_minor": 4
}
