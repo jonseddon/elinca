{
 "cells": [
  {
   "cell_type": "markdown",
   "metadata": {},
   "source": [
    "## Make Positions\n",
    "\n",
    "The positions in the GPX file occur approximately every eight hours. To get a smoother animation that allows the progression of the weather to be seen more frequent positions are required. This notebook takes the original fixes and then interpolates between the points to get hourly positions. Various interpolation techniques are possible; a simple linear interpolation based on the bearing and distance between fixes will be tried first."
   ]
  },
  {
   "cell_type": "code",
   "execution_count": 1,
   "metadata": {},
   "outputs": [],
   "source": [
    "from geographiclib.geodesic import Geodesic\n",
    "from geopy import distance\n",
    "import gpxpy\n",
    "import pandas as pd"
   ]
  },
  {
   "cell_type": "code",
   "execution_count": 2,
   "metadata": {},
   "outputs": [],
   "source": [
    "gpx_file = 'yblog-1589101179046.gpx'"
   ]
  },
  {
   "cell_type": "code",
   "execution_count": 3,
   "metadata": {},
   "outputs": [],
   "source": [
    "with open(gpx_file) as fh:\n",
    "    gpx = gpxpy.parse(fh)\n",
    "data = gpx.tracks[0].segments[0].points"
   ]
  },
  {
   "cell_type": "code",
   "execution_count": 4,
   "metadata": {},
   "outputs": [
    {
     "name": "stdout",
     "output_type": "stream",
     "text": [
      "[trkpt:55.94507999999999,-4.746780000000001@8.0@2013-09-04 16:19:01+00:00]\n"
     ]
    }
   ],
   "source": [
    "print(data[0])"
   ]
  },
  {
   "cell_type": "code",
   "execution_count": 5,
   "metadata": {},
   "outputs": [],
   "source": [
    "df = pd.DataFrame(columns=['lat', 'lon', 'time'])\n",
    "\n",
    "# Skip the first entry as it was just a test one week before we departed\n",
    "for point in data[1:]: \n",
    "    df = df.append({'lon': point.longitude, 'lat' : point.latitude, 'time' : point.time}, ignore_index=True)"
   ]
  },
  {
   "cell_type": "code",
   "execution_count": 6,
   "metadata": {},
   "outputs": [
    {
     "name": "stdout",
     "output_type": "stream",
     "text": [
      "        lat      lon                       time\n",
      "0  55.94507 -4.74655  2013-09-16 21:54:06+00:00\n",
      "1  55.56232 -5.02120  2013-09-17 16:00:06+00:00\n",
      "2  54.66902 -5.29117  2013-09-18 00:00:08+00:00\n",
      "3  53.64186 -4.84571  2013-09-18 08:00:06+00:00\n",
      "4  53.32146 -4.64268  2013-09-18 16:00:06+00:00\n",
      "5  53.32146 -4.64260  2013-09-19 00:00:06+00:00\n",
      "6  53.32148 -4.64269  2013-09-19 08:00:06+00:00\n",
      "7  53.32148 -4.64269  2013-09-19 16:00:06+00:00\n",
      "8  53.34245 -4.64908  2013-09-20 00:00:37+00:00\n",
      "9  52.48326 -5.49176  2013-09-20 08:00:25+00:00\n",
      "          lat      lon                       time\n",
      "546  58.03371 -6.33969  2014-05-24 00:00:06+00:00\n",
      "547  58.20922 -6.39012  2014-05-24 08:00:06+00:00\n",
      "548  58.20922 -6.39012  2014-05-24 09:59:12+00:00\n"
     ]
    }
   ],
   "source": [
    "print(df[:10])\n",
    "print(df[-3:])\n"
   ]
  },
  {
   "cell_type": "code",
   "execution_count": 7,
   "metadata": {},
   "outputs": [],
   "source": [
    "ms_to_knot = 1.944\n",
    "geod = Geodesic.WGS84\n",
    "hourly = pd.DataFrame(columns=['lat', 'lon', 'time', 'bearing', 'speed', 'src'])\n",
    "# src is a character with meanings: f: fix\n",
    "#                                   i: interpolated between fixes\n",
    "#                                   m: manually inserted point (e.g. when \n",
    "#                                      tracker was off in port)\n",
    "seconds_in_hour = 60**2\n",
    "for orig_index in range(len(df.index) - 1):\n",
    "    l = geod.InverseLine(\n",
    "        df.loc[orig_index]['lat'],\n",
    "        df.loc[orig_index]['lon'],\n",
    "        df.loc[orig_index + 1]['lat'],\n",
    "        df.loc[orig_index + 1]['lon'],\n",
    "    )\n",
    "    start_time = df.iloc[orig_index]['time']\n",
    "    start_time_hour = start_time.replace(minute=0, second=0, microsecond=0)\n",
    "    end_time = df.iloc[orig_index + 1]['time']\n",
    "    end_time_hour = end_time.replace(minute=0, second=0, microsecond=0)\n",
    "    time_delta_hours = int((end_time_hour - start_time_hour).total_seconds() / \n",
    "                           seconds_in_hour)\n",
    "    time_delta = (end_time - start_time).total_seconds()\n",
    "    speed = (l.s13 / time_delta) * ms_to_knot\n",
    "    for i in range(time_delta_hours):\n",
    "        g = l.Position(\n",
    "            (l.s13 / time_delta_hours) * i, \n",
    "            Geodesic.STANDARD | Geodesic.LONG_UNROLL\n",
    "        )\n",
    "        hourly = hourly.append({\n",
    "            'time': start_time_hour + pd.Timedelta(hours=i),\n",
    "            'lat': g['lat2'],\n",
    "            'lon': g['lon2'],\n",
    "            'bearing': g['azi2'] if  g['azi2'] >= 0 else 360 +  g['azi2'],\n",
    "            'speed': speed,\n",
    "            'src': 'f' if i == 0 else 'i',\n",
    "        }, ignore_index=True)"
   ]
  },
  {
   "cell_type": "code",
   "execution_count": 8,
   "metadata": {},
   "outputs": [
    {
     "name": "stdout",
     "output_type": "stream",
     "text": [
      "          lat       lon                       time     bearing     speed src\n",
      "0   55.945070 -4.746550  2013-09-16 21:00:00+00:00  202.145573  1.371521   f\n",
      "1   55.924941 -4.761140  2013-09-16 22:00:00+00:00  202.133486  1.371521   i\n",
      "2   55.904811 -4.775715  2013-09-16 23:00:00+00:00  202.121415  1.371521   i\n",
      "3   55.884678 -4.790275  2013-09-17 00:00:00+00:00  202.109359  1.371521   i\n",
      "4   55.864544 -4.804819  2013-09-17 01:00:00+00:00  202.097319  1.371521   i\n",
      "5   55.844408 -4.819349  2013-09-17 02:00:00+00:00  202.085294  1.371521   i\n",
      "6   55.824271 -4.833864  2013-09-17 03:00:00+00:00  202.073285  1.371521   i\n",
      "7   55.804131 -4.848363  2013-09-17 04:00:00+00:00  202.061290  1.371521   i\n",
      "8   55.783990 -4.862848  2013-09-17 05:00:00+00:00  202.049311  1.371521   i\n",
      "9   55.763847 -4.877318  2013-09-17 06:00:00+00:00  202.037347  1.371521   i\n",
      "10  55.743702 -4.891773  2013-09-17 07:00:00+00:00  202.025398  1.371521   i\n",
      "11  55.723556 -4.906213  2013-09-17 08:00:00+00:00  202.013464  1.371521   i\n",
      "12  55.703407 -4.920638  2013-09-17 09:00:00+00:00  202.001546  1.371521   i\n",
      "13  55.683257 -4.935048  2013-09-17 10:00:00+00:00  201.989643  1.371521   i\n",
      "14  55.663105 -4.949444  2013-09-17 11:00:00+00:00  201.977754  1.371521   i\n",
      "15  55.642952 -4.963825  2013-09-17 12:00:00+00:00  201.965881  1.371521   i\n",
      "16  55.622796 -4.978190  2013-09-17 13:00:00+00:00  201.954023  1.371521   i\n",
      "17  55.602639 -4.992542  2013-09-17 14:00:00+00:00  201.942180  1.371521   i\n",
      "18  55.582481 -5.006878  2013-09-17 15:00:00+00:00  201.930352  1.371521   i\n",
      "19  55.562320 -5.021200  2013-09-17 16:00:00+00:00  189.938391  6.812168   f\n",
      "20  55.450698 -5.055612  2013-09-17 17:00:00+00:00  189.910029  6.812168   i\n",
      "21  55.339064 -5.089829  2013-09-17 18:00:00+00:00  189.881865  6.812168   i\n",
      "22  55.227418 -5.123855  2013-09-17 19:00:00+00:00  189.853897  6.812168   i\n",
      "23  55.115761 -5.157691  2013-09-17 20:00:00+00:00  189.826122  6.812168   i\n",
      "            lat       lon                       time     bearing     speed src\n",
      "5964  57.072167 -5.909015  2014-05-23 09:00:00+00:00    1.873524  4.009919   i\n",
      "5965  57.138813 -5.905005  2014-05-23 10:00:00+00:00    1.876891  4.009919   i\n",
      "5966  57.205458 -5.900981  2014-05-23 11:00:00+00:00    1.880272  4.009919   i\n",
      "5967  57.272102 -5.896942  2014-05-23 12:00:00+00:00    1.883669  4.009919   i\n",
      "5968  57.338745 -5.892889  2014-05-23 13:00:00+00:00    1.887080  4.009919   i\n",
      "5969  57.405388 -5.888821  2014-05-23 14:00:00+00:00    1.890506  4.009919   i\n",
      "5970  57.472029 -5.884738  2014-05-23 15:00:00+00:00    1.893947  4.009919   i\n",
      "5971  57.538670 -5.880640  2014-05-23 16:00:00+00:00  333.846108  4.152990   f\n",
      "5972  57.600642 -5.937338  2014-05-23 17:00:00+00:00  333.798252  4.152990   i\n",
      "5973  57.662589 -5.994229  2014-05-23 18:00:00+00:00  333.750201  4.152990   i\n",
      "5974  57.724509 -6.051314  2014-05-23 19:00:00+00:00  333.701952  4.152990   i\n",
      "5975  57.786403 -6.108594  2014-05-23 20:00:00+00:00  333.653506  4.152990   i\n",
      "5976  57.848270 -6.166071  2014-05-23 21:00:00+00:00  333.604860  4.152990   i\n",
      "5977  57.910110 -6.223745  2014-05-23 22:00:00+00:00  333.556014  4.152990   i\n",
      "5978  57.971924 -6.281618  2014-05-23 23:00:00+00:00  333.506967  4.152990   i\n",
      "5979  58.033710 -6.339690  2014-05-24 00:00:00+00:00  351.376804  1.334670   f\n",
      "5980  58.055650 -6.345967  2014-05-24 01:00:00+00:00  351.371478  1.334670   i\n",
      "5981  58.077590 -6.352251  2014-05-24 02:00:00+00:00  351.366145  1.334670   i\n",
      "5982  58.099529 -6.358543  2014-05-24 03:00:00+00:00  351.360804  1.334670   i\n",
      "5983  58.121468 -6.364843  2014-05-24 04:00:00+00:00  351.355455  1.334670   i\n",
      "5984  58.143407 -6.371151  2014-05-24 05:00:00+00:00  351.350098  1.334670   i\n",
      "5985  58.165345 -6.377466  2014-05-24 06:00:00+00:00  351.344733  1.334670   i\n",
      "5986  58.187283 -6.383789  2014-05-24 07:00:00+00:00  351.339361  1.334670   i\n",
      "5987  58.209220 -6.390120  2014-05-24 08:00:00+00:00  180.000000  0.000000   f\n"
     ]
    }
   ],
   "source": [
    "print(hourly[:24])\n",
    "print(hourly[-24:])"
   ]
  },
  {
   "cell_type": "code",
   "execution_count": 9,
   "metadata": {},
   "outputs": [],
   "source": [
    "output_name = 'hourly_positions.json'\n",
    "with open(output_name, 'w') as fh:\n",
    "    hourly.to_json(fh)"
   ]
  },
  {
   "cell_type": "code",
   "execution_count": null,
   "metadata": {},
   "outputs": [],
   "source": []
  }
 ],
 "metadata": {
  "kernelspec": {
   "display_name": "Python 3",
   "language": "python",
   "name": "python3"
  },
  "language_info": {
   "codemirror_mode": {
    "name": "ipython",
    "version": 3
   },
   "file_extension": ".py",
   "mimetype": "text/x-python",
   "name": "python",
   "nbconvert_exporter": "python",
   "pygments_lexer": "ipython3",
   "version": "3.7.6"
  }
 },
 "nbformat": 4,
 "nbformat_minor": 4
}
