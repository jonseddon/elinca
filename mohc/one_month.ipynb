{
 "cells": [
  {
   "cell_type": "code",
   "execution_count": 47,
   "metadata": {},
   "outputs": [],
   "source": [
    "import cartopy.crs as ccrs\n",
    "import gpxpy\n",
    "import iris\n",
    "import iris.plot as iplt\n",
    "import iris.quickplot as qplt\n",
    "import matplotlib.pyplot as plt\n",
    "import os\n",
    "import pandas as pd\n",
    "\n",
    "# Define a Cartopy 'ordinary' lat-lon coordinate reference system.\n",
    "crs_latlon = ccrs.PlateCarree()"
   ]
  },
  {
   "cell_type": "code",
   "execution_count": 2,
   "metadata": {},
   "outputs": [],
   "source": [
    "gpx_file = '/home/jseddon/python/elinca/yblog-1589101179046.gpx'"
   ]
  },
  {
   "cell_type": "code",
   "execution_count": 7,
   "metadata": {},
   "outputs": [],
   "source": [
    "with open(gpx_file) as fh:\n",
    "    gpx = gpxpy.parse(fh)\n",
    "data = gpx.tracks[0].segments[0].points"
   ]
  },
  {
   "cell_type": "code",
   "execution_count": 12,
   "metadata": {},
   "outputs": [],
   "source": [
    "df = pd.DataFrame(columns=['lon', 'lat', 'time'])\n",
    "for point in data:\n",
    "    df = df.append({'lon': point.longitude, 'lat' : point.latitude, 'time' : point.time}, ignore_index=True)"
   ]
  },
  {
   "cell_type": "code",
   "execution_count": 15,
   "metadata": {},
   "outputs": [
    {
     "name": "stdout",
     "output_type": "stream",
     "text": [
      "        lon       lat                       time\n",
      "4  -4.84571  53.64186  2013-09-18 08:00:06+00:00\n",
      "7  -4.64269  53.32148  2013-09-19 08:00:06+00:00\n",
      "10 -5.49176  52.48326  2013-09-20 08:00:25+00:00\n",
      "13 -5.52468  49.98484  2013-09-21 08:00:37+00:00\n",
      "16 -5.06282  50.15300  2013-09-22 08:00:06+00:00\n",
      "19 -5.06294  50.15299  2013-09-23 08:00:37+00:00\n",
      "22 -5.06286  50.15300  2013-09-24 08:00:06+00:00\n",
      "25 -5.76222  49.25864  2013-09-25 08:00:06+00:00\n",
      "28 -7.12106  47.42763  2013-09-26 08:00:06+00:00\n",
      "31 -8.07914  44.77611  2013-09-27 08:00:06+00:00\n"
     ]
    }
   ],
   "source": [
    "daily = df[df.time.dt.strftime('%H:%M').between('04:00', '12:00')] \n",
    "print(daily[:10])"
   ]
  },
  {
   "cell_type": "code",
   "execution_count": 26,
   "metadata": {},
   "outputs": [
    {
     "name": "stdout",
     "output_type": "stream",
     "text": [
      "          lon       lat                       time\n",
      "43   -9.41521  38.69308  2013-10-01 08:00:06+00:00\n",
      "45   -9.41776  38.69164  2013-10-03 08:00:06+00:00\n",
      "48   -9.49440  37.66372  2013-10-04 08:00:30+00:00\n",
      "51  -10.27359  35.99179  2013-10-05 08:00:06+00:00\n",
      "54  -11.39966  34.05845  2013-10-06 08:00:06+00:00\n",
      "57  -13.12509  31.81570  2013-10-07 08:00:06+00:00\n",
      "60  -14.77898  29.34342  2013-10-08 08:00:06+00:00\n",
      "63  -15.42484  28.12566  2013-10-12 08:48:55+00:00\n",
      "66  -16.88826  26.02410  2013-10-13 08:01:07+00:00\n",
      "69  -18.87698  23.39465  2013-10-14 08:00:30+00:00\n",
      "72  -21.19816  21.15771  2013-10-15 08:01:01+00:00\n",
      "74  -23.10809  18.79714  2013-10-16 10:51:11+00:00\n",
      "77  -24.93056  16.98295  2013-10-17 08:00:37+00:00\n",
      "78  -24.99189  16.88646  2013-10-17 10:04:06+00:00\n",
      "84  -25.16579  13.38832  2013-10-20 08:00:06+00:00\n",
      "87  -25.08661  10.97498  2013-10-21 08:00:06+00:00\n",
      "92  -25.88019   3.63357  2013-10-24 08:00:06+00:00\n",
      "97  -29.10563  -3.45941  2013-10-27 08:00:06+00:00\n",
      "98  -30.51343  -6.78203  2013-10-28 09:23:38+00:00\n",
      "101 -31.73481  -9.44089  2013-10-29 08:00:06+00:00\n",
      "105 -34.70584 -14.51053  2013-10-31 08:00:06+00:00\n"
     ]
    }
   ],
   "source": [
    "october = daily[daily.time.dt.strftime('%Y%m%d').between('20131001', '20131031')]\n",
    "print(october[:30])"
   ]
  },
  {
   "cell_type": "code",
   "execution_count": 53,
   "metadata": {},
   "outputs": [
    {
     "name": "stdout",
     "output_type": "stream",
     "text": [
      "20131001\n",
      "20131003\n",
      "20131004\n",
      "20131005\n",
      "20131006\n",
      "20131007\n",
      "20131008\n",
      "20131012\n",
      "20131013\n",
      "20131014\n",
      "20131015\n",
      "20131016\n",
      "20131017\n",
      "20131017\n",
      "20131020\n",
      "20131021\n",
      "20131024\n",
      "20131027\n",
      "20131028\n",
      "20131029\n",
      "20131031\n"
     ]
    }
   ],
   "source": [
    "era5_dir = '/home/jseddon/python/elinca/era5'\n",
    "# chose every nth value\n",
    "nth = 8\n",
    "for i, dp in enumerate(october.iterrows()):\n",
    "    de = dp[1]\n",
    "    print(f'{de.time.year}{de.time.month:02}{de.time.day:02}')\n",
    "    # Load data\n",
    "    day_dir = os.path.join(era5_dir, f'{de.time.year}', f'{de.time.month:02}',\n",
    "                           f'{de.time.day:02}')\n",
    "    file_prefix = f'ecmwf-era5_oper_an_sfc_{de.time.year}{de.time.month:02}{de.time.day:02}1200'\n",
    "    mslp = iris.load_cube(os.path.join(day_dir, file_prefix + '.msl.nc'))\n",
    "    mslp_atl = mslp.intersection(longitude=(-90, 10))\n",
    "    mslp_atl.convert_units('hPa')\n",
    "    u = iris.load_cube(os.path.join(day_dir, file_prefix + '.10u.nc'))\n",
    "    u_atl = u.intersection(longitude=(-90, 10))\n",
    "    u_atl_2deg = u_atl[0, ::nth, ::nth]\n",
    "    u_atl_2deg.convert_units('knot')\n",
    "    v = iris.load_cube(os.path.join(day_dir, file_prefix + '.10v.nc'))\n",
    "    v_atl = v.intersection(longitude=(-90, 10))\n",
    "    v_atl_2deg = v_atl[0, ::nth, ::nth]\n",
    "    v_atl_2deg.convert_units('knot')\n",
    "    # Plot data\n",
    "    plt.figure(figsize=(12, 25))\n",
    "    iplt.quiver(u_atl_2deg, v_atl_2deg)\n",
    "    iplt.contour(mslp_atl[0], 20,\n",
    "                     linewidths=0.5, colors='black', linestyles='-')\n",
    "    ax = plt.gca()\n",
    "    # ax = plt.axes(projection=ccrs.PlateCarree())\n",
    "    ax.set_extent((-70.0, 10.0, -90.0, 60.0), crs=crs_latlon)\n",
    "    ax.stock_img()\n",
    "    ax.coastlines(resolution='10m')\n",
    "    ax.gridlines()\n",
    "    plt.plot(de.lon, de.lat, marker='o', markersize=7.0, markeredgewidth=2.5,\n",
    "                     markerfacecolor='black', markeredgecolor='white',\n",
    "                     transform=crs_latlon)\n",
    "    # Save plot\n",
    "    output_dir = '/home/jseddon/python/elinca/plots'\n",
    "    output_file = f'img{i:03}.png'\n",
    "    plt.savefig(os.path.join(output_dir, output_file))\n",
    "    plt.close()"
   ]
  },
  {
   "cell_type": "code",
   "execution_count": 51,
   "metadata": {},
   "outputs": [
    {
     "data": {
      "text/plain": [
       "lon                      -9.41521\n",
       "lat                       38.6931\n",
       "time    2013-10-01 08:00:06+00:00\n",
       "Name: 43, dtype: object"
      ]
     },
     "execution_count": 51,
     "metadata": {},
     "output_type": "execute_result"
    }
   ],
   "source": [
    "de"
   ]
  },
  {
   "cell_type": "code",
   "execution_count": null,
   "metadata": {},
   "outputs": [],
   "source": []
  }
 ],
 "metadata": {
  "kernelspec": {
   "display_name": "Python 3",
   "language": "python",
   "name": "python3"
  },
  "language_info": {
   "codemirror_mode": {
    "name": "ipython",
    "version": 3
   },
   "file_extension": ".py",
   "mimetype": "text/x-python",
   "name": "python",
   "nbconvert_exporter": "python",
   "pygments_lexer": "ipython3",
   "version": "3.7.6"
  }
 },
 "nbformat": 4,
 "nbformat_minor": 4
}
